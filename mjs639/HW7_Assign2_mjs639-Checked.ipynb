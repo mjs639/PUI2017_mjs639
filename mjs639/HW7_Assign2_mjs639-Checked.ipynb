{
 "cells": [
  {
   "cell_type": "code",
   "execution_count": 1,
   "metadata": {},
   "outputs": [
    {
     "ename": "SyntaxError",
     "evalue": "invalid syntax (<ipython-input-1-65caf769b286>, line 25)",
     "output_type": "error",
     "traceback": [
      "\u001b[0;36m  File \u001b[0;32m\"<ipython-input-1-65caf769b286>\"\u001b[0;36m, line \u001b[0;32m25\u001b[0m\n\u001b[0;31m    except urllib2.HTTPError, e:\u001b[0m\n\u001b[0m                            ^\u001b[0m\n\u001b[0;31mSyntaxError\u001b[0m\u001b[0;31m:\u001b[0m invalid syntax\n"
     ]
    }
   ],
   "source": [
    "import urllib2\n",
    "import urllib\n",
    "import StringIO\n",
    "import ast\n",
    "import pandas as pd\n",
    "from IPython.display import Image\n",
    "\n",
    "SQL_SOURCE = 'https://mjs639.carto.com/api/v2/sql?q='\n",
    "\n",
    "\n",
    "def queryCartoDB(query, format='CSV', source=SQL_SOURCE):\n",
    "    '''queries carto datasets from a given carto account\n",
    "    Arguments: \n",
    "    query - string: a valid sql query string\n",
    "    format - outlut format  OPTIONAL (default CSV)\n",
    "    source - a valid sql api endpoint OPTIONAL (default carto fb55 account)\n",
    "    Returns:\n",
    "    the return of the sql query AS A STRING\n",
    "    NOTES:\n",
    "    designed for the carto API, tested only with CSV return format'''\n",
    "    \n",
    "    data = urllib.urlencode({'format': format, 'q': query})\n",
    "    try:\n",
    "        response = urllib2.urlopen(source, data)\n",
    "    except urllib2.HTTPError, e:\n",
    "        raise ValueError('\\n'.join(ast.literal_eval(e.readline())['error']))\n",
    "    except Exception:\n",
    "        raise\n",
    "    return response.read()"
   ]
  },
  {
   "cell_type": "code",
   "execution_count": null,
   "metadata": {},
   "outputs": [],
   "source": [
    "#Select trips under 3 hours in length, ordered from longest to shortest\n",
    "\n",
    "task1 = '''\n",
    "SELECT * FROM citibike\n",
    "WHERE tripduration<10800\n",
    "ORDER BY tripduration DESC\n",
    "LIMIT 10\n",
    "'''\n",
    "\n",
    "pd.read_csv(StringIO.StringIO(queryCartoDB(task1)), sep=',')"
   ]
  },
  {
   "cell_type": "code",
   "execution_count": null,
   "metadata": {},
   "outputs": [],
   "source": [
    "#Finding the average trip duration and birth year\n",
    "\n",
    "task2 = '''\n",
    "SELECT AVG(tripduration) as avt, AVG(birth_year) as avb\n",
    "FROM citibike\n",
    "'''\n",
    "\n",
    "pd.read_csv(StringIO.StringIO(queryCartoDB(task2)), sep=',')"
   ]
  },
  {
   "cell_type": "code",
   "execution_count": null,
   "metadata": {},
   "outputs": [],
   "source": [
    "#Isolating trips taken on February 2nd, 2015\n",
    "\n",
    "task3 = '''\n",
    "SELECT *\n",
    "FROM citibike\n",
    "WHERE starttime >= '2015-02-02 00:00'\n",
    "  AND starttime < '2015-02-03 00:00'\n",
    "'''\n",
    "\n",
    "pd.read_csv(StringIO.StringIO(queryCartoDB(task3)), sep=',')"
   ]
  },
  {
   "cell_type": "code",
   "execution_count": null,
   "metadata": {},
   "outputs": [],
   "source": [
    "#Finding the average trip duration for weekdays\n",
    "\n",
    "task4 = '''\n",
    "SELECT AVG(tripduration)\n",
    "FROM citibike\n",
    "WHERE extract(DOW from starttime) NOT IN (0,6) \n",
    "'''\n",
    "\n",
    "pd.read_csv(StringIO.StringIO(queryCartoDB(task4)), sep=',')"
   ]
  },
  {
   "cell_type": "code",
   "execution_count": null,
   "metadata": {},
   "outputs": [],
   "source": [
    "#Identifying every station used\n",
    "\n",
    "task5 = '''\n",
    "SELECT start_station_latitude, start_station_longitude\n",
    "FROM citibike\n",
    "GROUP BY start_station_latitude, start_station_longitude\n",
    "'''\n",
    "\n",
    "pd.read_csv(StringIO.StringIO(queryCartoDB(task5)), sep=',')"
   ]
  },
  {
   "cell_type": "code",
   "execution_count": null,
   "metadata": {},
   "outputs": [],
   "source": [
    "#Counting the number of trips originating at each unique station\n",
    "\n",
    "task6 = '''\n",
    "SELECT start_station_id, COUNT(*)\n",
    "FROM citibike\n",
    "GROUP BY start_station_id, \n",
    "start_station_latitude, start_station_longitude\n",
    "'''\n",
    "\n",
    "pd.read_csv(StringIO.StringIO(queryCartoDB(task6)), sep=',')"
   ]
  },
  {
   "cell_type": "code",
   "execution_count": null,
   "metadata": {},
   "outputs": [],
   "source": [
    "#Creating Geom Coordinates for each station\n",
    "\n",
    "task7 = '''\n",
    "SELECT CDB_LatLng(start_station_latitude, start_station_longitude) as the_geom\n",
    "FROM citibike\n",
    "GROUP BY start_station_id, \n",
    "start_station_latitude, start_station_longitude\n",
    "'''\n",
    "\n",
    "pd.read_csv(StringIO.StringIO(queryCartoDB(task7)), sep=',')"
   ]
  },
  {
   "cell_type": "code",
   "execution_count": null,
   "metadata": {},
   "outputs": [],
   "source": [
    "#Connecting each station with its coordinates, and mapping them\n",
    "\n",
    "task8 = '''\n",
    "SELECT CDB_TransformToWebmercator(\n",
    "           CDB_LatLng(start_station_latitude, \n",
    "                      start_station_longitude)) as the_geom_webmercator,\n",
    "       MIN(cartodb_id) as cartodb_id\n",
    "FROM citibike\n",
    "GROUP BY start_station_id, \n",
    "start_station_latitude, start_station_longitude\n",
    "'''\n",
    "\n",
    "pd.read_csv(StringIO.StringIO(queryCartoDB(task8)), sep=',')"
   ]
  },
  {
   "cell_type": "code",
   "execution_count": null,
   "metadata": {},
   "outputs": [],
   "source": [
    "#Map from Task 8\n",
    "\n",
    "Image(\"https://raw.githubusercontent.com/mjs639/PUI2017_mjs639/master/HW7_mjs639/Screen%20Shot%202017-11-02%20at%207.13.57%20PM.png\")"
   ]
  },
  {
   "cell_type": "markdown",
   "metadata": {},
   "source": [
    "### Figure 1 shows every unique Citi Bike station active during February, 2015"
   ]
  },
  {
   "cell_type": "code",
   "execution_count": null,
   "metadata": {},
   "outputs": [],
   "source": [
    "#Mapping stations within 500 meters of Times Square\n",
    "\n",
    "task9 = '''\n",
    "SELECT CDB_TransformToWebmercator(\n",
    "           CDB_LatLng(start_station_latitude, \n",
    "                      start_station_longitude)) as the_geom_webmercator,\n",
    "       MIN(cartodb_id) as cartodb_id \n",
    "FROM citibike\n",
    "WHERE ST_DWithin(CDB_LatLng(start_station_latitude, \n",
    "                            start_station_longitude)::geography,\n",
    "                 CDB_LatLng(40.7577, -73.9857)::geography,\n",
    "                 500)\n",
    "GROUP BY start_station_id, \n",
    "start_station_latitude, start_station_longitude\n",
    "'''\n",
    "\n",
    "pd.read_csv(StringIO.StringIO(queryCartoDB(task9)), sep=',')"
   ]
  },
  {
   "cell_type": "code",
   "execution_count": null,
   "metadata": {},
   "outputs": [],
   "source": [
    "#Map from Task 9\n",
    "\n",
    "Image(\"https://raw.githubusercontent.com/mjs639/PUI2017_mjs639/master/HW7_mjs639/Screen%20Shot%202017-11-02%20at%207.20.58%20PM.png\")"
   ]
  },
  {
   "cell_type": "markdown",
   "metadata": {},
   "source": [
    "### Figure 2 shows the seven stations that are located within 500 meters of the heart of Times Square, identified as the point at coordinates (40.7577, -73.9857)"
   ]
  },
  {
   "cell_type": "code",
   "execution_count": null,
   "metadata": {},
   "outputs": [],
   "source": [
    "#Determining the average trip duration originating at each station within 500 meters of Times Square, \n",
    "#and representing this information on the map\n",
    "\n",
    "task10 = '''\n",
    "SELECT CDB_TransformToWebmercator(\n",
    "           CDB_LatLng(start_station_latitude, \n",
    "                      start_station_longitude)) as the_geom_webmercator,\n",
    "       MIN(cartodb_id) as cartodb_id, \n",
    "       AVG(tripduration) as ta\n",
    "FROM citibike\n",
    "WHERE ST_DWithin(CDB_LatLng(start_station_latitude, \n",
    "                            start_station_longitude)::geography,\n",
    "                 CDB_LatLng(40.7577, -73.9857)::geography,\n",
    "                 500)\n",
    "GROUP BY start_station_id, \n",
    "start_station_latitude, start_station_longitude\n",
    "'''\n",
    "\n",
    "pd.read_csv(StringIO.StringIO(queryCartoDB(task10)), sep=',')"
   ]
  },
  {
   "cell_type": "code",
   "execution_count": null,
   "metadata": {},
   "outputs": [],
   "source": [
    "#Map from Task 10\n",
    "\n",
    "Image(\"https://raw.githubusercontent.com/mjs639/PUI2017_mjs639/master/HW7_mjs639/Screen%20Shot%202017-11-02%20at%207.27.46%20PM.png\")"
   ]
  },
  {
   "cell_type": "markdown",
   "metadata": {},
   "source": [
    "### Figure 3 represents the average trip duration for trips originating at the seven Times Square stations. The larger the dot, the higher the average is."
   ]
  },
  {
   "cell_type": "code",
   "execution_count": null,
   "metadata": {},
   "outputs": [],
   "source": [
    "#Representing every trip starting at the stations within 500 meters of Times Square and connecting them to the \n",
    "#end stations using a line\n",
    "\n",
    "task11 = '''\n",
    "SELECT ST_Makeline(\n",
    "       CDB_TransformToWebmercator(\n",
    "           CDB_LatLng(start_station_latitude, \n",
    "                      start_station_longitude)),\n",
    "       CDB_TransformToWebmercator(\n",
    "           CDB_LatLng(end_station_latitude, \n",
    "                      end_station_longitude))\n",
    "       ) as the_geom_webmercator,          \n",
    "       MIN(cartodb_id) as cartodb_id \n",
    "FROM citibike\n",
    "WHERE ST_DWithin(CDB_LatLng(start_station_latitude, \n",
    "                            start_station_longitude)::geography,\n",
    "                 CDB_LatLng(40.7577, -73.9857)::geography,\n",
    "                 500)\n",
    "GROUP BY start_station_id, start_station_latitude, start_station_longitude,\n",
    "         end_station_id, end_station_latitude, end_station_longitude\n",
    "'''\n",
    "\n",
    "pd.read_csv(StringIO.StringIO(queryCartoDB(task11)), sep=',')"
   ]
  },
  {
   "cell_type": "code",
   "execution_count": null,
   "metadata": {},
   "outputs": [],
   "source": [
    "#Map from Task 11\n",
    "\n",
    "Image(\"https://raw.githubusercontent.com/mjs639/PUI2017_mjs639/master/HW7_mjs639/Screen%20Shot%202017-11-02%20at%207.32.16%20PM.png\")"
   ]
  },
  {
   "cell_type": "markdown",
   "metadata": {},
   "source": [
    "### Figure 4 shows the end point of every trip originating from the Times Square Seven. Each trip is represented by a line from the origin to the destintion."
   ]
  },
  {
   "cell_type": "markdown",
   "metadata": {},
   "source": [
    "## Ash - Scoer # 100. Extra Credit 0"
   ]
  },
  {
   "cell_type": "code",
   "execution_count": null,
   "metadata": {},
   "outputs": [],
   "source": []
  }
 ],
 "metadata": {
  "kernelspec": {
   "display_name": "PUI2016_Python3",
   "language": "python",
   "name": "pui2016_python3"
  },
  "language_info": {
   "codemirror_mode": {
    "name": "ipython",
    "version": 3
   },
   "file_extension": ".py",
   "mimetype": "text/x-python",
   "name": "python",
   "nbconvert_exporter": "python",
   "pygments_lexer": "ipython3",
   "version": "3.5.4"
  }
 },
 "nbformat": 4,
 "nbformat_minor": 2
}
